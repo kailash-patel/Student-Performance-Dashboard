{
 "cells": [
  {
   "cell_type": "markdown",
   "id": "afbd7ace-6a82-4f4a-ad2a-e56358198776",
   "metadata": {},
   "source": [
    "### Loading Data "
   ]
  },
  {
   "cell_type": "code",
   "execution_count": 39,
   "id": "92226e08-bef0-4123-8393-848e0a05e505",
   "metadata": {},
   "outputs": [],
   "source": [
    "import pandas as pd\n",
    "\n",
    "# Load the dataset\n",
    "df = pd.read_csv('synthetic_student_dataset.csv')  "
   ]
  },
  {
   "cell_type": "code",
   "execution_count": 33,
   "id": "b9a48fe4-644e-4fdf-96df-ed6e9640c0ed",
   "metadata": {},
   "outputs": [
    {
     "name": "stdout",
     "output_type": "stream",
     "text": [
      "Data split completed.\n",
      "Training samples: 1600, Testing samples: 400\n"
     ]
    }
   ],
   "source": [
    "# Defining features and target \n",
    "features = ['comprehension', 'attention', 'focus', 'retention', 'engagement_time']\n",
    "target = 'assessment_score'\n",
    "\n",
    "X = df[features]  # Features\n",
    "y = df[target]    # Target\n",
    "\n",
    "# Spliting data into training and testing datasets\n",
    "X_train, X_test, y_train, y_test = train_test_split(\n",
    "    X, y, test_size=0.2, random_state=42\n",
    ")\n",
    "\n",
    "print(\"Data split completed.\")\n",
    "print(f\"Training samples: {X_train.shape[0]}, Testing samples: {X_test.shape[0]}\")\n"
   ]
  },
  {
   "cell_type": "markdown",
   "id": "7e799153-0c94-423b-82ba-ae9363f8427b",
   "metadata": {},
   "source": [
    "### LinearRegression Model"
   ]
  },
  {
   "cell_type": "code",
   "execution_count": 34,
   "id": "8155128b-97ec-4230-b374-7502c70a9bff",
   "metadata": {},
   "outputs": [
    {
     "name": "stdout",
     "output_type": "stream",
     "text": [
      "Model training completed.\n"
     ]
    }
   ],
   "source": [
    "from sklearn.linear_model import LinearRegression\n",
    "\n",
    "# Creating Linear Regression model\n",
    "model = LinearRegression()\n",
    "\n",
    "model.fit(X_train, y_train)\n",
    "\n",
    "print(\"Model training completed.\")"
   ]
  },
  {
   "cell_type": "code",
   "execution_count": 35,
   "id": "411ba522-bd79-4703-a497-d995615e63f6",
   "metadata": {},
   "outputs": [
    {
     "name": "stdout",
     "output_type": "stream",
     "text": [
      "Model Evaluation Results:\n",
      "R² Score: 0.8862\n",
      "Mean Squared Error: 25.4685\n"
     ]
    }
   ],
   "source": [
    "from sklearn.metrics import r2_score, mean_squared_error\n",
    "\n",
    "y_pred = model.predict(X_test)\n",
    "\n",
    "# Evaluate the model\n",
    "r2 = r2_score(y_test, y_pred)\n",
    "mse = mean_squared_error(y_test, y_pred)\n",
    "\n",
    "print(f\"Model Evaluation Results:\")\n",
    "print(f\"R² Score: {r2:.4f}\")\n",
    "print(f\"Mean Squared Error: {mse:.4f}\")\n"
   ]
  },
  {
   "cell_type": "markdown",
   "id": "3dbfa436-e3bc-4d82-a9d1-2f3dbbe4a3ba",
   "metadata": {},
   "source": [
    "### RandomForestRegressor Model"
   ]
  },
  {
   "cell_type": "code",
   "execution_count": 36,
   "id": "bc94b6a0-bd7e-45b3-ba1e-40f86b9a6ebd",
   "metadata": {},
   "outputs": [
    {
     "name": "stdout",
     "output_type": "stream",
     "text": [
      "Random Forest Model Evaluation:\n",
      "R² Score: 0.8615\n",
      "Mean Squared Error: 30.9881\n"
     ]
    }
   ],
   "source": [
    "from sklearn.ensemble import RandomForestRegressor\n",
    "l\n",
    "rf_model = RandomForestRegressor(n_estimators=100, random_state=42)\n",
    "rf_model.fit(X_train, y_train)\n",
    "\n",
    "y_pred_rf = rf_model.predict(X_test)\n",
    "\n",
    "r2_rf = r2_score(y_test, y_pred_rf)\n",
    "mse_rf = mean_squared_error(y_test, y_pred_rf)\n",
    "\n",
    "print(\"Random Forest Model Evaluation:\")\n",
    "print(f\"R² Score: {r2_rf:.4f}\")\n",
    "print(f\"Mean Squared Error: {mse_rf:.4f}\")\n"
   ]
  },
  {
   "cell_type": "markdown",
   "id": "500e4be2-fb0f-4829-9832-1d32e1221cf4",
   "metadata": {},
   "source": [
    "### Cluster students into learning personas."
   ]
  },
  {
   "cell_type": "code",
   "execution_count": 38,
   "id": "5b5fae40-10df-4e74-8e48-428a9ce201f7",
   "metadata": {},
   "outputs": [
    {
     "name": "stdout",
     "output_type": "stream",
     "text": [
      "Data prepared for clustering.\n"
     ]
    }
   ],
   "source": [
    "from sklearn.preprocessing import StandardScaler\n",
    "\n",
    "#features for clustering\n",
    "cluster_features = ['comprehension', 'attention', 'focus', 'retention', 'engagement_time']\n",
    "\n",
    "scaler = StandardScaler()\n",
    "X_cluster = scaler.fit_transform(df[cluster_features])\n",
    "\n",
    "print(\"Data prepared for clustering.\")\n"
   ]
  },
  {
   "cell_type": "markdown",
   "id": "be45a69e-4e38-497a-98e6-6fb4ba5f7ba8",
   "metadata": {},
   "source": [
    "### K-Means Clustering"
   ]
  },
  {
   "cell_type": "code",
   "execution_count": 40,
   "id": "a983a21c-56dd-4742-ab50-65ce0d04daf2",
   "metadata": {},
   "outputs": [
    {
     "name": "stdout",
     "output_type": "stream",
     "text": [
      "K-Means clustering completed.\n"
     ]
    },
    {
     "data": {
      "text/html": [
       "<div>\n",
       "<style scoped>\n",
       "    .dataframe tbody tr th:only-of-type {\n",
       "        vertical-align: middle;\n",
       "    }\n",
       "\n",
       "    .dataframe tbody tr th {\n",
       "        vertical-align: top;\n",
       "    }\n",
       "\n",
       "    .dataframe thead th {\n",
       "        text-align: right;\n",
       "    }\n",
       "</style>\n",
       "<table border=\"1\" class=\"dataframe\">\n",
       "  <thead>\n",
       "    <tr style=\"text-align: right;\">\n",
       "      <th></th>\n",
       "      <th>student_id</th>\n",
       "      <th>name</th>\n",
       "      <th>learning_persona</th>\n",
       "    </tr>\n",
       "  </thead>\n",
       "  <tbody>\n",
       "    <tr>\n",
       "      <th>0</th>\n",
       "      <td>1</td>\n",
       "      <td>Casey Lloyd</td>\n",
       "      <td>0</td>\n",
       "    </tr>\n",
       "    <tr>\n",
       "      <th>1</th>\n",
       "      <td>2</td>\n",
       "      <td>Austin Montes</td>\n",
       "      <td>0</td>\n",
       "    </tr>\n",
       "    <tr>\n",
       "      <th>2</th>\n",
       "      <td>3</td>\n",
       "      <td>Olivia Martinez</td>\n",
       "      <td>1</td>\n",
       "    </tr>\n",
       "    <tr>\n",
       "      <th>3</th>\n",
       "      <td>4</td>\n",
       "      <td>Christopher Pratt</td>\n",
       "      <td>0</td>\n",
       "    </tr>\n",
       "    <tr>\n",
       "      <th>4</th>\n",
       "      <td>5</td>\n",
       "      <td>Tiffany Pace</td>\n",
       "      <td>2</td>\n",
       "    </tr>\n",
       "  </tbody>\n",
       "</table>\n",
       "</div>"
      ],
      "text/plain": [
       "   student_id               name  learning_persona\n",
       "0           1        Casey Lloyd                 0\n",
       "1           2      Austin Montes                 0\n",
       "2           3    Olivia Martinez                 1\n",
       "3           4  Christopher Pratt                 0\n",
       "4           5       Tiffany Pace                 2"
      ]
     },
     "execution_count": 40,
     "metadata": {},
     "output_type": "execute_result"
    }
   ],
   "source": [
    "from sklearn.cluster import KMeans\n",
    "\n",
    "# KMeans with 3 clusters\n",
    "kmeans = KMeans(n_clusters=3, random_state=42, n_init=10)\n",
    "df['learning_persona'] = kmeans.fit_predict(X_cluster)\n",
    "\n",
    "print(\"K-Means clustering completed.\")\n",
    "df[['student_id', 'name', 'learning_persona']].head()\n"
   ]
  },
  {
   "cell_type": "code",
   "execution_count": 41,
   "id": "e9d92528-1e6f-444e-98b9-c86790bcfc1e",
   "metadata": {},
   "outputs": [
    {
     "name": "stdout",
     "output_type": "stream",
     "text": [
      "Learning Persona Summary (Cluster Averages):\n"
     ]
    },
    {
     "data": {
      "text/html": [
       "<div>\n",
       "<style scoped>\n",
       "    .dataframe tbody tr th:only-of-type {\n",
       "        vertical-align: middle;\n",
       "    }\n",
       "\n",
       "    .dataframe tbody tr th {\n",
       "        vertical-align: top;\n",
       "    }\n",
       "\n",
       "    .dataframe thead th {\n",
       "        text-align: right;\n",
       "    }\n",
       "</style>\n",
       "<table border=\"1\" class=\"dataframe\">\n",
       "  <thead>\n",
       "    <tr style=\"text-align: right;\">\n",
       "      <th></th>\n",
       "      <th>comprehension</th>\n",
       "      <th>attention</th>\n",
       "      <th>focus</th>\n",
       "      <th>retention</th>\n",
       "      <th>engagement_time</th>\n",
       "      <th>assessment_score</th>\n",
       "    </tr>\n",
       "    <tr>\n",
       "      <th>learning_persona</th>\n",
       "      <th></th>\n",
       "      <th></th>\n",
       "      <th></th>\n",
       "      <th></th>\n",
       "      <th></th>\n",
       "      <th></th>\n",
       "    </tr>\n",
       "  </thead>\n",
       "  <tbody>\n",
       "    <tr>\n",
       "      <th>0</th>\n",
       "      <td>54.14</td>\n",
       "      <td>40.40</td>\n",
       "      <td>39.99</td>\n",
       "      <td>43.95</td>\n",
       "      <td>235.95</td>\n",
       "      <td>48.73</td>\n",
       "    </tr>\n",
       "    <tr>\n",
       "      <th>1</th>\n",
       "      <td>47.18</td>\n",
       "      <td>51.02</td>\n",
       "      <td>26.94</td>\n",
       "      <td>51.74</td>\n",
       "      <td>85.19</td>\n",
       "      <td>42.80</td>\n",
       "    </tr>\n",
       "    <tr>\n",
       "      <th>2</th>\n",
       "      <td>48.22</td>\n",
       "      <td>56.72</td>\n",
       "      <td>79.49</td>\n",
       "      <td>50.64</td>\n",
       "      <td>141.66</td>\n",
       "      <td>56.58</td>\n",
       "    </tr>\n",
       "  </tbody>\n",
       "</table>\n",
       "</div>"
      ],
      "text/plain": [
       "                  comprehension  attention  focus  retention  engagement_time  \\\n",
       "learning_persona                                                                \n",
       "0                         54.14      40.40  39.99      43.95           235.95   \n",
       "1                         47.18      51.02  26.94      51.74            85.19   \n",
       "2                         48.22      56.72  79.49      50.64           141.66   \n",
       "\n",
       "                  assessment_score  \n",
       "learning_persona                    \n",
       "0                            48.73  \n",
       "1                            42.80  \n",
       "2                            56.58  "
      ]
     },
     "execution_count": 41,
     "metadata": {},
     "output_type": "execute_result"
    }
   ],
   "source": [
    "# Group by cluster and calculate mean values of skills\n",
    "persona_summary = df.groupby('learning_persona')[['comprehension', 'attention', 'focus', 'retention', 'engagement_time', 'assessment_score']].mean().round(2)\n",
    "\n",
    "print(\"Learning Persona Summary (Cluster Averages):\")\n",
    "persona_summary\n"
   ]
  },
  {
   "cell_type": "code",
   "execution_count": null,
   "id": "1182da4a-ec2d-45dc-9bd1-d0035fb73ad5",
   "metadata": {},
   "outputs": [],
   "source": []
  }
 ],
 "metadata": {
  "kernelspec": {
   "display_name": "Python 3 (ipykernel)",
   "language": "python",
   "name": "python3"
  },
  "language_info": {
   "codemirror_mode": {
    "name": "ipython",
    "version": 3
   },
   "file_extension": ".py",
   "mimetype": "text/x-python",
   "name": "python",
   "nbconvert_exporter": "python",
   "pygments_lexer": "ipython3",
   "version": "3.12.7"
  }
 },
 "nbformat": 4,
 "nbformat_minor": 5
}
